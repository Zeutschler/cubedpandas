{
 "cells": [
  {
   "cell_type": "code",
   "id": "initial_id",
   "metadata": {
    "ExecuteTime": {
     "end_time": "2024-08-22T12:35:22.117604Z",
     "start_time": "2024-08-22T12:35:21.904174Z"
    }
   },
   "source": [
    "import pandas as pd\n",
    "from cubedpandas import cubed\n",
    "\n",
    "\n",
    "# Load the sample dataset\n",
    "df = pd.DataFrame({\"product\": [\"Apple\", \"Pear\", \"Banana\", \"Apple\", \"Pear\", \"Banana\"],\n",
    "                   \"channel\": [\"Online\", \"Online\", \"Online\", \"Retail\", \"Retail\", \"Retail\"],\n",
    "                   \"customer\": [\"Peter\", \"Peter\", \"Paul\", \"Paul\", \"Mary\", \"Mary\"],\n",
    "                   \"revenue\": [100, 150, 300, 200, 250, 350],\n",
    "                   \"cost\": [50, 90, 150, 100, 150, 175]})\n",
    "cdf = cubed(df)\n",
    "cdf.settings.populate_members = False"
   ],
   "outputs": [],
   "execution_count": 1
  },
  {
   "cell_type": "code",
   "id": "e886b776-62c6-466b-8da9-7fc9d70ec74f",
   "metadata": {
    "ExecuteTime": {
     "end_time": "2024-08-22T12:35:22.124607Z",
     "start_time": "2024-08-22T12:35:22.121157Z"
    }
   },
   "source": [
    "product = cdf.product\n",
    "product"
   ],
   "outputs": [
    {
     "data": {
      "text/plain": [
       "1350"
      ]
     },
     "execution_count": 2,
     "metadata": {},
     "output_type": "execute_result"
    }
   ],
   "execution_count": 2
  },
  {
   "cell_type": "code",
   "id": "d92ae4d5-9bfb-4587-9126-66498690f4e1",
   "metadata": {
    "ExecuteTime": {
     "end_time": "2024-08-22T12:35:49.021826Z",
     "start_time": "2024-08-22T12:35:49.016587Z"
    }
   },
   "source": "product.Apple.Pear.Banana",
   "outputs": [
    {
     "data": {
      "text/plain": [
       "1350"
      ]
     },
     "execution_count": 6,
     "metadata": {},
     "output_type": "execute_result"
    }
   ],
   "execution_count": 6
  },
  {
   "metadata": {},
   "cell_type": "code",
   "outputs": [],
   "execution_count": null,
   "source": "",
   "id": "581ac693b452d7c3"
  }
 ],
 "metadata": {
  "kernelspec": {
   "display_name": "Python 3 (ipykernel)",
   "language": "python",
   "name": "python3"
  },
  "language_info": {
   "codemirror_mode": {
    "name": "ipython",
    "version": 3
   },
   "file_extension": ".py",
   "mimetype": "text/x-python",
   "name": "python",
   "nbconvert_exporter": "python",
   "pygments_lexer": "ipython3",
   "version": "3.11.0"
  }
 },
 "nbformat": 4,
 "nbformat_minor": 5
}
