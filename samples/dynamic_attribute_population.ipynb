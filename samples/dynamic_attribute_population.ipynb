{
 "cells": [
  {
   "cell_type": "code",
   "execution_count": 1,
   "id": "initial_id",
   "metadata": {
    "ExecuteTime": {
     "end_time": "2024-08-22T10:00:46.251642Z",
     "start_time": "2024-08-22T10:00:45.924010Z"
    }
   },
   "outputs": [],
   "source": [
    "import pandas as pd\n",
    "from cubedpandas import cubed\n",
    "from cubedpandas import Context\n",
    "\n",
    "\n",
    "# Load the sample dataset\n",
    "df = pd.DataFrame({\"product\": [\"Apple\", \"Pear\", \"Banana\", \"Apple\", \"Pear\", \"Banana\"],\n",
    "                   \"channel\": [\"Online\", \"Online\", \"Online\", \"Retail\", \"Retail\", \"Retail\"],\n",
    "                   \"customer\": [\"Peter\", \"Peter\", \"Paul\", \"Paul\", \"Mary\", \"Mary\"],\n",
    "                   \"revenue\": [100, 150, 300, 200, 250, 350],\n",
    "                   \"cost\": [50, 90, 150, 100, 150, 175]})\n",
    "cdf = cubed(df)\n",
    "cdf.settings.populate_members = True"
   ]
  },
  {
   "cell_type": "code",
   "execution_count": 2,
   "id": "4469e06d64d287df",
   "metadata": {
    "ExecuteTime": {
     "end_time": "2024-08-22T10:00:48.086518Z",
     "start_time": "2024-08-22T10:00:48.083120Z"
    }
   },
   "outputs": [],
   "source": [
    "product: Context = cdf.product"
   ]
  },
  {
   "cell_type": "code",
   "execution_count": 6,
   "id": "a51d5da0330f988b",
   "metadata": {},
   "outputs": [
    {
     "name": "stdout",
     "output_type": "stream",
     "text": [
      "<class 'cubedpandas.context.dimension_context.DimensionContext'>\n"
     ]
    }
   ],
   "source": [
    "print(type(product))"
   ]
  },
  {
   "cell_type": "code",
   "id": "e886b776-62c6-466b-8da9-7fc9d70ec74f",
   "metadata": {
    "ExecuteTime": {
     "end_time": "2024-08-22T10:08:57.523997Z",
     "start_time": "2024-08-22T10:08:57.442399Z"
    }
   },
   "source": "product.Agg.revenue.sum()",
   "outputs": [
    {
     "ename": "AttributeError",
     "evalue": "Unexpected fatal error while trying to resolve the context for 'Agg'.",
     "output_type": "error",
     "traceback": [
      "\u001B[0;31m---------------------------------------------------------------------------\u001B[0m",
      "\u001B[0;31mAttributeError\u001B[0m                            Traceback (most recent call last)",
      "Cell \u001B[0;32mIn[4], line 1\u001B[0m\n\u001B[0;32m----> 1\u001B[0m \u001B[43mproduct\u001B[49m\u001B[38;5;241;43m.\u001B[39;49m\u001B[43mAgg\u001B[49m\u001B[38;5;241m.\u001B[39mrevenue\u001B[38;5;241m.\u001B[39msum()\n",
      "File \u001B[0;32m~/Documents/Coding/cubedpandas/cubedpandas/context/context.py:338\u001B[0m, in \u001B[0;36mContext.__getattr__\u001B[0;34m(self, name)\u001B[0m\n\u001B[1;32m    333\u001B[0m     \u001B[38;5;28;01mraise\u001B[39;00m \u001B[38;5;167;01mAttributeError\u001B[39;00m(\u001B[38;5;124m\"\u001B[39m\u001B[38;5;124mcubedpandas\u001B[39m\u001B[38;5;124m\"\u001B[39m)\n\u001B[1;32m    337\u001B[0m \u001B[38;5;28;01mif\u001B[39;00m \u001B[38;5;28mself\u001B[39m\u001B[38;5;241m.\u001B[39m_semaphore:\n\u001B[0;32m--> 338\u001B[0m     \u001B[38;5;28;01mraise\u001B[39;00m \u001B[38;5;167;01mAttributeError\u001B[39;00m(\u001B[38;5;124mf\u001B[39m\u001B[38;5;124m\"\u001B[39m\u001B[38;5;124mUnexpected fatal error while trying to resolve the context for \u001B[39m\u001B[38;5;124m'\u001B[39m\u001B[38;5;132;01m{\u001B[39;00mname\u001B[38;5;132;01m}\u001B[39;00m\u001B[38;5;124m'\u001B[39m\u001B[38;5;124m.\u001B[39m\u001B[38;5;124m\"\u001B[39m)\n\u001B[1;32m    339\u001B[0m     \u001B[38;5;66;03m# return super().__getattr__(name)\u001B[39;00m\n\u001B[1;32m    340\u001B[0m     \u001B[38;5;66;03m# raise AttributeError(f\"Unexpected fatal error while trying to resolve the context for '{name}'.\"\u001B[39;00m\n\u001B[1;32m    341\u001B[0m     \u001B[38;5;66;03m#                     f\"Likely due to multithreading issues. Please report this issue to the developer.\")\u001B[39;00m\n\u001B[1;32m    343\u001B[0m \u001B[38;5;28;01mif\u001B[39;00m name \u001B[38;5;241m==\u001B[39m \u001B[38;5;124m\"\u001B[39m\u001B[38;5;124m_ipython_canary_method_should_not_exist\u001B[39m\u001B[38;5;124m\"\u001B[39m: \u001B[38;5;66;03m# pragma: no cover\u001B[39;00m\n",
      "\u001B[0;31mAttributeError\u001B[0m: Unexpected fatal error while trying to resolve the context for 'Agg'."
     ]
    }
   ],
   "execution_count": 4
  },
  {
   "cell_type": "code",
   "execution_count": null,
   "id": "d92ae4d5-9bfb-4587-9126-66498690f4e1",
   "metadata": {},
   "outputs": [],
   "source": []
  },
  {
   "cell_type": "code",
   "execution_count": null,
   "id": "0fe24510-3ab9-4e06-a895-9993b192f8df",
   "metadata": {},
   "outputs": [],
   "source": []
  },
  {
   "cell_type": "code",
   "execution_count": null,
   "id": "ee2383aa-3e15-4d74-9435-aad8c9ab976e",
   "metadata": {},
   "outputs": [],
   "source": []
  }
 ],
 "metadata": {
  "kernelspec": {
   "display_name": "Python 3 (ipykernel)",
   "language": "python",
   "name": "python3"
  },
  "language_info": {
   "codemirror_mode": {
    "name": "ipython",
    "version": 3
   },
   "file_extension": ".py",
   "mimetype": "text/x-python",
   "name": "python",
   "nbconvert_exporter": "python",
   "pygments_lexer": "ipython3",
   "version": "3.11.0"
  }
 },
 "nbformat": 4,
 "nbformat_minor": 5
}
