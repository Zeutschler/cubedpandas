{
 "cells": [
  {
   "cell_type": "code",
   "id": "initial_id",
   "metadata": {
    "collapsed": true,
    "ExecuteTime": {
     "end_time": "2024-08-22T09:26:13.635691Z",
     "start_time": "2024-08-22T09:26:13.376686Z"
    }
   },
   "source": [
    "import pandas as pd\n",
    "from cubedpandas import cubed\n",
    "from cubedpandas import Context\n",
    "\n",
    "# Load the sample dataset\n",
    "df = pd.DataFrame({\"product\": [\"Apple\", \"Pear\", \"Banana\", \"Apple\", \"Pear\", \"Banana\"],\n",
    "                   \"channel\": [\"Online\", \"Online\", \"Online\", \"Retail\", \"Retail\", \"Retail\"],\n",
    "                   \"customer\": [\"Peter\", \"Peter\", \"Paul\", \"Paul\", \"Mary\", \"Mary\"],\n",
    "                   \"revenue\": [100, 150, 300, 200, 250, 350],\n",
    "                   \"cost\": [50, 90, 150, 100, 150, 175]})\n",
    "cdf = cubed(df)\n"
   ],
   "outputs": [],
   "execution_count": 1
  },
  {
   "metadata": {
    "ExecuteTime": {
     "end_time": "2024-08-22T09:26:14.676497Z",
     "start_time": "2024-08-22T09:26:14.673971Z"
    }
   },
   "cell_type": "code",
   "source": "product: Context = cdf.product",
   "id": "4469e06d64d287df",
   "outputs": [
    {
     "name": "stdout",
     "output_type": "stream",
     "text": [
      "added: ['Apple', 'Banana', 'Pear']\n"
     ]
    }
   ],
   "execution_count": 2
  },
  {
   "metadata": {},
   "cell_type": "code",
   "source": "product ",
   "id": "a51d5da0330f988b",
   "outputs": [],
   "execution_count": null
  }
 ],
 "metadata": {
  "kernelspec": {
   "display_name": "Python 3",
   "language": "python",
   "name": "python3"
  },
  "language_info": {
   "codemirror_mode": {
    "name": "ipython",
    "version": 2
   },
   "file_extension": ".py",
   "mimetype": "text/x-python",
   "name": "python",
   "nbconvert_exporter": "python",
   "pygments_lexer": "ipython2",
   "version": "2.7.6"
  }
 },
 "nbformat": 4,
 "nbformat_minor": 5
}
