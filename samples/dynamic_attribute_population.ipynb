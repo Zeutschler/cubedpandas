{
 "cells": [
  {
   "cell_type": "code",
   "id": "initial_id",
   "metadata": {
    "ExecuteTime": {
     "end_time": "2024-08-23T09:08:28.758333Z",
     "start_time": "2024-08-23T09:08:28.470097Z"
    }
   },
   "source": [
    "import pandas as pd\n",
    "from cubedpandas import cubed\n",
    "\n",
    "\n",
    "# Load the sample dataset\n",
    "df = pd.DataFrame({\"product\": [\"Apple\", \"Pear\", \"Banana\", \"Apple\", \"Pear\", \"Banana\"],\n",
    "                   \"channel\": [\"Online\", \"Online\", \"Online\", \"Retail\", \"Retail\", \"Retail\"],\n",
    "                   \"customer\": [\"Peter\", \"Peter\", \"Paul\", \"Paul\", \"Mary\", \"Mary\"],\n",
    "                   \"revenue\": [100, 150, 300, 200, 250, 350],\n",
    "                   \"cost\": [50, 90, 150, 100, 150, 175]})\n",
    "cdf = cubed(df)\n",
    "cdf.settings.populate_members = True"
   ],
   "outputs": [],
   "execution_count": 1
  },
  {
   "cell_type": "code",
   "id": "e886b776-62c6-466b-8da9-7fc9d70ec74f",
   "metadata": {
    "ExecuteTime": {
     "end_time": "2024-08-23T09:08:28.869356Z",
     "start_time": "2024-08-23T09:08:28.866479Z"
    }
   },
   "source": [
    "product = cdf.product\n",
    "product\n"
   ],
   "outputs": [
    {
     "data": {
      "text/plain": [
       "1350"
      ]
     },
     "execution_count": 2,
     "metadata": {},
     "output_type": "execute_result"
    }
   ],
   "execution_count": 2
  },
  {
   "cell_type": "code",
   "id": "d92ae4d5-9bfb-4587-9126-66498690f4e1",
   "metadata": {
    "ExecuteTime": {
     "end_time": "2024-08-23T09:08:28.936834Z",
     "start_time": "2024-08-23T09:08:28.934033Z"
    }
   },
   "source": [
    "product.Apple.Pear"
   ],
   "outputs": [
    {
     "data": {
      "text/plain": [
       "700"
      ]
     },
     "execution_count": 3,
     "metadata": {},
     "output_type": "execute_result"
    }
   ],
   "execution_count": 3
  },
  {
   "cell_type": "code",
   "id": "581ac693b452d7c3",
   "metadata": {
    "ExecuteTime": {
     "end_time": "2024-08-23T09:08:47.724661Z",
     "start_time": "2024-08-23T09:08:47.720360Z"
    }
   },
   "source": "product.Apple.Pear.Banana",
   "outputs": [
    {
     "data": {
      "text/plain": [
       "1350"
      ]
     },
     "execution_count": 5,
     "metadata": {},
     "output_type": "execute_result"
    }
   ],
   "execution_count": 5
  },
  {
   "metadata": {},
   "cell_type": "code",
   "outputs": [],
   "execution_count": null,
   "source": "",
   "id": "babd9408b067c9e3"
  }
 ],
 "metadata": {
  "kernelspec": {
   "display_name": "Python 3 (ipykernel)",
   "language": "python",
   "name": "python3"
  },
  "language_info": {
   "codemirror_mode": {
    "name": "ipython",
    "version": 3
   },
   "file_extension": ".py",
   "mimetype": "text/x-python",
   "name": "python",
   "nbconvert_exporter": "python",
   "pygments_lexer": "ipython3",
   "version": "3.11.0"
  }
 },
 "nbformat": 4,
 "nbformat_minor": 5
}
